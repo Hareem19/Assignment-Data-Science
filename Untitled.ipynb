{
 "cells": [
  {
   "cell_type": "code",
   "execution_count": 1,
   "id": "b3c9ad43",
   "metadata": {},
   "outputs": [],
   "source": [
    "import pandas as pd"
   ]
  },
  {
   "cell_type": "code",
   "execution_count": 2,
   "id": "f3069af6",
   "metadata": {},
   "outputs": [],
   "source": [
    "data = pd.read_csv(\"netflix_data.csv\")\n"
   ]
  },
  {
   "cell_type": "markdown",
   "id": "c62a8017",
   "metadata": {},
   "source": [
    "# QUESTION 1"
   ]
  },
  {
   "cell_type": "code",
   "execution_count": 3,
   "id": "ff657cdf",
   "metadata": {},
   "outputs": [],
   "source": [
    "def set_cast(val):    \n",
    "    if val is None:\n",
    "        return 0\n",
    "    if val == 'None':\n",
    "        return 0\n",
    "    if val == '':\n",
    "        return 0\n",
    "    return len(val.split(\", \"))"
   ]
  },
  {
   "cell_type": "code",
   "execution_count": 4,
   "id": "75ae2bdd",
   "metadata": {},
   "outputs": [],
   "source": [
    "data[\"num_of_cast\"] = data[\"cast\"]"
   ]
  },
  {
   "cell_type": "code",
   "execution_count": 5,
   "id": "2b81ded6",
   "metadata": {},
   "outputs": [
    {
     "data": {
      "text/plain": [
       "0       11\n",
       "1        6\n",
       "2        9\n",
       "3        9\n",
       "4       12\n",
       "        ..\n",
       "7781     9\n",
       "7782     7\n",
       "7783     8\n",
       "7784     1\n",
       "7785     2\n",
       "Name: num_of_cast, Length: 7069, dtype: int64"
      ]
     },
     "execution_count": 5,
     "metadata": {},
     "output_type": "execute_result"
    }
   ],
   "source": [
    "data= data[data[\"num_of_cast\"].notnull()]\n",
    "data[\"num_of_cast\"].apply(set_cast)"
   ]
  },
  {
   "cell_type": "markdown",
   "id": "b478c12d",
   "metadata": {},
   "source": [
    "# QUESTUION 2 "
   ]
  },
  {
   "cell_type": "code",
   "execution_count": 6,
   "id": "0ffe630f",
   "metadata": {},
   "outputs": [
    {
     "data": {
      "text/plain": [
       "genre                 type   \n",
       "Action                Movie       715\n",
       "Anime Features        Movie        18\n",
       "Anime Series          TV Show     145\n",
       "British TV            TV Show     192\n",
       "Children              Movie       475\n",
       "Classic               TV Show      21\n",
       "Classic Movies        Movie        69\n",
       "Comedies              Movie      1068\n",
       "Crime TV              TV Show     314\n",
       "Cult Movies           Movie        11\n",
       "Documentaries         Movie       386\n",
       "Docuseries            TV Show     100\n",
       "Dramas                Movie      1378\n",
       "Horror Movies         Movie       244\n",
       "Independent Movies    Movie        20\n",
       "International Movies  Movie       113\n",
       "International TV      TV Show     666\n",
       "Kids                  TV Show     325\n",
       "LGBTQ Movies          Movie         1\n",
       "Music                 Movie        17\n",
       "Reality TV            TV Show      70\n",
       "Romantic Movies       Movie         3\n",
       "Romantic TV           TV Show      28\n",
       "Sci-Fi                Movie        11\n",
       "Spanish-Language      TV Show       2\n",
       "Sports Movies         Movie         1\n",
       "Stand-Up              Movie       320\n",
       "                      TV Show      28\n",
       "TV Action             TV Show      36\n",
       "TV Comedies           TV Show     110\n",
       "TV Dramas             TV Show      62\n",
       "TV Horror             TV Show      10\n",
       "TV Sci                TV Show       1\n",
       "TV Shows              TV Show       8\n",
       "Thrillers             Movie        49\n",
       "Uncategorized         Movie        52\n",
       "Name: type, dtype: int64"
      ]
     },
     "execution_count": 6,
     "metadata": {},
     "output_type": "execute_result"
    }
   ],
   "source": [
    "data.groupby(\"genre\")[\"type\"].value_counts()"
   ]
  },
  {
   "cell_type": "code",
   "execution_count": null,
   "id": "5a322b4f",
   "metadata": {},
   "outputs": [],
   "source": []
  },
  {
   "cell_type": "code",
   "execution_count": null,
   "id": "1ed31b96",
   "metadata": {},
   "outputs": [],
   "source": []
  }
 ],
 "metadata": {
  "kernelspec": {
   "display_name": "Python 3 (ipykernel)",
   "language": "python",
   "name": "python3"
  },
  "language_info": {
   "codemirror_mode": {
    "name": "ipython",
    "version": 3
   },
   "file_extension": ".py",
   "mimetype": "text/x-python",
   "name": "python",
   "nbconvert_exporter": "python",
   "pygments_lexer": "ipython3",
   "version": "3.10.2"
  }
 },
 "nbformat": 4,
 "nbformat_minor": 5
}
